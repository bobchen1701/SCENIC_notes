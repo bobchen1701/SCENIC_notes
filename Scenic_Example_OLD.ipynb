{
 "cells": [
  {
   "cell_type": "code",
   "execution_count": 1,
   "metadata": {},
   "outputs": [],
   "source": [
    "#import everything"
   ]
  },
  {
   "cell_type": "code",
   "execution_count": 3,
   "metadata": {
    "collapsed": true,
    "jupyter": {
     "outputs_hidden": true
    }
   },
   "outputs": [
    {
     "ename": "ModuleNotFoundError",
     "evalue": "No module named 'yaml'",
     "output_type": "error",
     "traceback": [
      "\u001b[0;31m---------------------------------------------------------------------------\u001b[0m",
      "\u001b[0;31mModuleNotFoundError\u001b[0m                       Traceback (most recent call last)",
      "\u001b[0;32m<ipython-input-3-26e69c55fd8a>\u001b[0m in \u001b[0;36m<module>\u001b[0;34m\u001b[0m\n\u001b[1;32m      7\u001b[0m \u001b[0;34m\u001b[0m\u001b[0m\n\u001b[1;32m      8\u001b[0m \u001b[0;32mfrom\u001b[0m \u001b[0marboreto\u001b[0m\u001b[0;34m.\u001b[0m\u001b[0mutils\u001b[0m \u001b[0;32mimport\u001b[0m \u001b[0mload_tf_names\u001b[0m\u001b[0;34m\u001b[0m\u001b[0;34m\u001b[0m\u001b[0m\n\u001b[0;32m----> 9\u001b[0;31m \u001b[0;32mfrom\u001b[0m \u001b[0marboreto\u001b[0m\u001b[0;34m.\u001b[0m\u001b[0malgo\u001b[0m \u001b[0;32mimport\u001b[0m \u001b[0mgrnboost2\u001b[0m\u001b[0;34m\u001b[0m\u001b[0;34m\u001b[0m\u001b[0m\n\u001b[0m\u001b[1;32m     10\u001b[0m \u001b[0;34m\u001b[0m\u001b[0m\n\u001b[1;32m     11\u001b[0m \u001b[0;32mfrom\u001b[0m \u001b[0mpyscenic\u001b[0m\u001b[0;34m.\u001b[0m\u001b[0mrnkdb\u001b[0m \u001b[0;32mimport\u001b[0m \u001b[0mFeatherRankingDatabase\u001b[0m \u001b[0;32mas\u001b[0m \u001b[0mRankingDatabase\u001b[0m\u001b[0;34m\u001b[0m\u001b[0;34m\u001b[0m\u001b[0m\n",
      "\u001b[0;32m~/.local/lib/python3.8/site-packages/arboreto/algo.py\u001b[0m in \u001b[0;36m<module>\u001b[0;34m\u001b[0m\n\u001b[1;32m      4\u001b[0m \u001b[0;34m\u001b[0m\u001b[0m\n\u001b[1;32m      5\u001b[0m \u001b[0;32mimport\u001b[0m \u001b[0mpandas\u001b[0m \u001b[0;32mas\u001b[0m \u001b[0mpd\u001b[0m\u001b[0;34m\u001b[0m\u001b[0;34m\u001b[0m\u001b[0m\n\u001b[0;32m----> 6\u001b[0;31m \u001b[0;32mfrom\u001b[0m \u001b[0mdistributed\u001b[0m \u001b[0;32mimport\u001b[0m \u001b[0mClient\u001b[0m\u001b[0;34m,\u001b[0m \u001b[0mLocalCluster\u001b[0m\u001b[0;34m\u001b[0m\u001b[0;34m\u001b[0m\u001b[0m\n\u001b[0m\u001b[1;32m      7\u001b[0m \u001b[0;32mfrom\u001b[0m \u001b[0marboreto\u001b[0m\u001b[0;34m.\u001b[0m\u001b[0mcore\u001b[0m \u001b[0;32mimport\u001b[0m \u001b[0mcreate_graph\u001b[0m\u001b[0;34m,\u001b[0m \u001b[0mSGBM_KWARGS\u001b[0m\u001b[0;34m,\u001b[0m \u001b[0mRF_KWARGS\u001b[0m\u001b[0;34m,\u001b[0m \u001b[0mEARLY_STOP_WINDOW_LENGTH\u001b[0m\u001b[0;34m\u001b[0m\u001b[0;34m\u001b[0m\u001b[0m\n\u001b[1;32m      8\u001b[0m \u001b[0;34m\u001b[0m\u001b[0m\n",
      "\u001b[0;32m~/.local/lib/python3.8/site-packages/distributed/__init__.py\u001b[0m in \u001b[0;36m<module>\u001b[0;34m\u001b[0m\n\u001b[1;32m      1\u001b[0m \u001b[0;32mfrom\u001b[0m \u001b[0m__future__\u001b[0m \u001b[0;32mimport\u001b[0m \u001b[0mprint_function\u001b[0m\u001b[0;34m,\u001b[0m \u001b[0mdivision\u001b[0m\u001b[0;34m,\u001b[0m \u001b[0mabsolute_import\u001b[0m\u001b[0;34m\u001b[0m\u001b[0;34m\u001b[0m\u001b[0m\n\u001b[1;32m      2\u001b[0m \u001b[0;34m\u001b[0m\u001b[0m\n\u001b[0;32m----> 3\u001b[0;31m \u001b[0;32mfrom\u001b[0m \u001b[0;34m.\u001b[0m \u001b[0;32mimport\u001b[0m \u001b[0mconfig\u001b[0m\u001b[0;34m\u001b[0m\u001b[0;34m\u001b[0m\u001b[0m\n\u001b[0m\u001b[1;32m      4\u001b[0m \u001b[0;32mfrom\u001b[0m \u001b[0mdask\u001b[0m\u001b[0;34m.\u001b[0m\u001b[0mconfig\u001b[0m \u001b[0;32mimport\u001b[0m \u001b[0mconfig\u001b[0m\u001b[0;34m\u001b[0m\u001b[0;34m\u001b[0m\u001b[0m\n\u001b[1;32m      5\u001b[0m \u001b[0;32mfrom\u001b[0m \u001b[0;34m.\u001b[0m\u001b[0mactor\u001b[0m \u001b[0;32mimport\u001b[0m \u001b[0mActor\u001b[0m\u001b[0;34m,\u001b[0m \u001b[0mActorFuture\u001b[0m\u001b[0;34m\u001b[0m\u001b[0;34m\u001b[0m\u001b[0m\n",
      "\u001b[0;32m~/.local/lib/python3.8/site-packages/distributed/config.py\u001b[0m in \u001b[0;36m<module>\u001b[0;34m\u001b[0m\n\u001b[1;32m      7\u001b[0m \u001b[0;34m\u001b[0m\u001b[0m\n\u001b[1;32m      8\u001b[0m \u001b[0;32mimport\u001b[0m \u001b[0mdask\u001b[0m\u001b[0;34m\u001b[0m\u001b[0;34m\u001b[0m\u001b[0m\n\u001b[0;32m----> 9\u001b[0;31m \u001b[0;32mimport\u001b[0m \u001b[0myaml\u001b[0m\u001b[0;34m\u001b[0m\u001b[0;34m\u001b[0m\u001b[0m\n\u001b[0m\u001b[1;32m     10\u001b[0m \u001b[0;34m\u001b[0m\u001b[0m\n\u001b[1;32m     11\u001b[0m \u001b[0;32mfrom\u001b[0m \u001b[0;34m.\u001b[0m\u001b[0mcompatibility\u001b[0m \u001b[0;32mimport\u001b[0m \u001b[0mlogging_names\u001b[0m\u001b[0;34m\u001b[0m\u001b[0;34m\u001b[0m\u001b[0m\n",
      "\u001b[0;31mModuleNotFoundError\u001b[0m: No module named 'yaml'"
     ]
    }
   ],
   "source": [
    "import sys\n",
    "import scanpy as sc\n",
    "import pandas as pd\n",
    "import numpy as np\n",
    "import os, glob\n",
    "import pickle\n",
    "\n",
    "from arboreto.utils import load_tf_names\n",
    "from arboreto.algo import grnboost2\n",
    "\n",
    "from pyscenic.rnkdb import FeatherRankingDatabase as RankingDatabase\n",
    "from pyscenic.utils import modules_from_adjacencies\n",
    "from pyscenic.prune import prune2df, df2regulons, _distributed_calc\n",
    "from pyscenic.aucell import aucell\n",
    "from dask.diagnostics import ProgressBar\n",
    "from distributed import LocalCluster, Client\n",
    "import seaborn as sns\n",
    "\n",
    "import logging"
   ]
  },
  {
   "cell_type": "code",
   "execution_count": null,
   "metadata": {},
   "outputs": [],
   "source": [
    "#ensure correct path to kernel where packages were installed\n",
    "sys.executable"
   ]
  },
  {
   "cell_type": "code",
   "execution_count": 3,
   "metadata": {},
   "outputs": [
    {
     "data": {
      "text/plain": [
       "'1.0.0'"
      ]
     },
     "execution_count": 3,
     "metadata": {},
     "output_type": "execute_result"
    }
   ],
   "source": [
    "#must be ver 1.0.0\n",
    "import dask\n",
    "dask.__version__"
   ]
  },
  {
   "cell_type": "code",
   "execution_count": 4,
   "metadata": {},
   "outputs": [
    {
     "data": {
      "text/plain": [
       "'0.25.3'"
      ]
     },
     "execution_count": 4,
     "metadata": {},
     "output_type": "execute_result"
    }
   ],
   "source": [
    "#must NOT be version 1.0 or newer\n",
    "pd.__version__"
   ]
  },
  {
   "cell_type": "code",
   "execution_count": 5,
   "metadata": {},
   "outputs": [
    {
     "data": {
      "text/plain": [
       "'1.28.1'"
      ]
     },
     "execution_count": 5,
     "metadata": {},
     "output_type": "execute_result"
    }
   ],
   "source": [
    "#must be ver 1.28.1\n",
    "import distributed\n",
    "distributed.__version__"
   ]
  },
  {
   "cell_type": "code",
   "execution_count": 6,
   "metadata": {},
   "outputs": [],
   "source": [
    "#easiest to import h5ad files\n",
    "adata = sc.read_h5ad(\"Enterocyte_Lineage_Cluster_Counts.h5ad\")"
   ]
  },
  {
   "cell_type": "code",
   "execution_count": 7,
   "metadata": {},
   "outputs": [
    {
     "data": {
      "text/plain": [
       "AnnData object with n_obs × n_vars = 35589 × 35966 \n",
       "    obs: 'ADTYPE', 'ATYPIA', 'PDIM', 'PTYPE', 'SIZEINVIVO', 'SEGMENT', 'BATCH', 'leiden', 'Enterocyte_Lineage', 'Secretory_Lineage', 'Enteroendocrine', 'Tuft', 'Tumor', 'Hyperplastic_Lineage'"
      ]
     },
     "execution_count": 7,
     "metadata": {},
     "output_type": "execute_result"
    }
   ],
   "source": [
    "#check properties, here we have 35k cells by 35k genes\n",
    "adata"
   ]
  },
  {
   "cell_type": "code",
   "execution_count": 8,
   "metadata": {},
   "outputs": [
    {
     "name": "stdout",
     "output_type": "stream",
     "text": [
      "/home/bob/Dropbox (VU Basic Sciences)/Collaboration/PCA/Cumulative_SCENIC\n"
     ]
    }
   ],
   "source": [
    "#check current directory\n",
    "!pwd"
   ]
  },
  {
   "cell_type": "code",
   "execution_count": 9,
   "metadata": {},
   "outputs": [],
   "source": [
    "DATA_FOLDER=\"/home/bob/Dropbox (VU Basic Sciences)/Collaboration/PCA/Cumulative_SCENIC/Cumulative_SCENIC_out_ent_lin/\" #output directory\n",
    "RESOURCES_FOLDER=\"/home/bob/SCENIC/pySCENIC/resources/\" #resource directory, or location where ..tfs.txt is or where the motifs file tbl file is\n",
    "DATABASE_FOLDER = \"/home/bob/SCENIC/pySCENIC/databases/\" #database directory, or where the .feather databases are located\n",
    "\n",
    "DATABASES_GLOB = os.path.join(DATABASE_FOLDER, \"hg19-*.mc9nr.feather\") #make a combined import for all feather databases\n",
    "MOTIF_ANNOTATIONS_FNAME = os.path.join(RESOURCES_FOLDER, \"motifs-v9-nr.hgnc-m0.001-o0.0.tbl\") #motif annotations file\n",
    "                                                         #motifs-v9-nr.hgnc-m0.001-o0.0.tbl\n",
    "HS_TFS_FNAME = os.path.join(RESOURCES_FOLDER, 'hs_hgnc_tfs.txt') #tf list file\n",
    "\n",
    "ADJACENCIES_FNAME = os.path.join(DATA_FOLDER, \"7_10_species_adj.csv\") #output adjacency results from first step of scenic \n",
    "MODULES_FNAME = os.path.join(DATA_FOLDER, \"7_10_species_modules.p\") #output for detected modules \n",
    "MOTIFS_FNAME = os.path.join(DATA_FOLDER, \"7_10_species_motifs.csv\") #output for detected motifs\n",
    "REGULONS_FNAME = os.path.join(DATA_FOLDER, \"7_10_species_regulons.p\") #output for regulon enrichments\n",
    "AUC_FNAME = os.path.join(DATA_FOLDER, \"7_10_species_aucell.csv\") #output for relative regulon values, this is what is typically used for SCENIC based UMAPS"
   ]
  },
  {
   "cell_type": "code",
   "execution_count": 10,
   "metadata": {},
   "outputs": [
    {
     "data": {
      "text/plain": [
       "[FeatherRankingDatabase(name=\"hg19-tss-centered-5kb-7species.mc9nr\"),\n",
       " FeatherRankingDatabase(name=\"hg19-tss-centered-10kb-7species.mc9nr\"),\n",
       " FeatherRankingDatabase(name=\"hg19-500bp-upstream-10species.mc9nr\"),\n",
       " FeatherRankingDatabase(name=\"hg19-500bp-upstream-7species.mc9nr\"),\n",
       " FeatherRankingDatabase(name=\"hg19-tss-centered-10kb-10species.mc9nr\"),\n",
       " FeatherRankingDatabase(name=\"hg19-tss-centered-5kb-10species.mc9nr\")]"
      ]
     },
     "execution_count": 10,
     "metadata": {},
     "output_type": "execute_result"
    }
   ],
   "source": [
    "#import all ranking databases, should get an output thats like 'featherrankingdatabse' for like six databases, make sure you are importing the mouse or human one depending on situation\n",
    "tf_names = load_tf_names(HS_TFS_FNAME)\n",
    "db_fnames = glob.glob(DATABASES_GLOB)\n",
    "def name(fname):\n",
    "    return os.path.splitext(os.path.basename(fname))[0]\n",
    "dbs = [RankingDatabase(fname=fname, name=name(fname)) for fname in db_fnames]\n",
    "dbs"
   ]
  },
  {
   "cell_type": "code",
   "execution_count": 11,
   "metadata": {},
   "outputs": [],
   "source": [
    "#convert imported AnnData object into a pandas dataframe\n",
    "data_in = pd.DataFrame(adata.X).astype(int)\n",
    "data_in.columns = adata.var_names\n",
    "data_in.index = adata.obs_names"
   ]
  },
  {
   "cell_type": "code",
   "execution_count": 12,
   "metadata": {},
   "outputs": [
    {
     "data": {
      "text/plain": [
       "(35589, 35966)"
      ]
     },
     "execution_count": 12,
     "metadata": {},
     "output_type": "execute_result"
    }
   ],
   "source": [
    "#check dataframe size\n",
    "data_in.shape"
   ]
  },
  {
   "cell_type": "code",
   "execution_count": 13,
   "metadata": {},
   "outputs": [],
   "source": [
    "#free up some memory by resetting the AnnData object, we only need the dataframe at this point\n",
    "adata = 0"
   ]
  },
  {
   "cell_type": "code",
   "execution_count": 14,
   "metadata": {},
   "outputs": [],
   "source": [
    "#set up a local Dask cluster for parallelizing\n",
    "#n workers should = number of cores\n",
    "#threads per worker should be the number of threads per core\n",
    "#n workers * threads per worker should = total number of threads. \n",
    "#your mac mini probably has something like 12 threads total\n",
    "#the memory limit scales per core, and threads per worker is not incorporated\n",
    "#best to divide the 64GB of ram evenly across the number of workers\n",
    "#you can access an interactive progress bar interface at localhost:2345 if you have bokeh installed\n",
    "local_cluster = LocalCluster(n_workers=4,threads_per_worker=8,dashboard_address=':2345',memory_limit='20000MB')#lots of sleeping processes\n",
    "custom_client_coexp = Client(local_cluster) #might not need this"
   ]
  },
  {
   "cell_type": "code",
   "execution_count": null,
   "metadata": {},
   "outputs": [
    {
     "name": "stdout",
     "output_type": "stream",
     "text": [
      "preparing dask client\n",
      "parsing input\n",
      "creating dask graph\n"
     ]
    },
    {
     "name": "stderr",
     "output_type": "stream",
     "text": [
      "/home/bob/anaconda3/envs/scenic/lib/python3.8/site-packages/arboreto/algo.py:214: FutureWarning: Method .as_matrix will be removed in a future version. Use .values instead.\n",
      "  expression_matrix = expression_data.as_matrix()\n"
     ]
    },
    {
     "name": "stdout",
     "output_type": "stream",
     "text": [
      "4 partitions\n",
      "computing dask graph\n"
     ]
    }
   ],
   "source": [
    "%%time  #this should take the longest time, several hours\n",
    "adj = grnboost2(data_in, tf_names=tf_names, verbose=True,client_or_address=custom_client_coexp)"
   ]
  },
  {
   "cell_type": "code",
   "execution_count": null,
   "metadata": {},
   "outputs": [],
   "source": [
    "adj.head() #check to see if it outputted properly"
   ]
  },
  {
   "cell_type": "code",
   "execution_count": null,
   "metadata": {},
   "outputs": [],
   "source": [
    "adj.to_csv(ADJACENCIES_FNAME, index=False, sep='\\t') #save to file at previously defined locations"
   ]
  },
  {
   "cell_type": "code",
   "execution_count": null,
   "metadata": {
    "scrolled": true
   },
   "outputs": [],
   "source": [
    "%%time\n",
    "modules = list(modules_from_adjacencies(adj, data_in)) #default settings takes like 3 minutes, just creates a module file from the adjacencies\n",
    "#bunch of nanny warnings show up if running in same notebook as coexpression"
   ]
  },
  {
   "cell_type": "code",
   "execution_count": null,
   "metadata": {},
   "outputs": [],
   "source": [
    "#"
   ]
  },
  {
   "cell_type": "code",
   "execution_count": null,
   "metadata": {},
   "outputs": [],
   "source": [
    "with open(MODULES_FNAME, \"wb\") as f: #save the modules as a formatted 'pickle' file\n",
    "    pickle.dump(modules, f)"
   ]
  },
  {
   "cell_type": "code",
   "execution_count": null,
   "metadata": {},
   "outputs": [],
   "source": [
    "len(modules) #check length"
   ]
  },
  {
   "cell_type": "code",
   "execution_count": null,
   "metadata": {},
   "outputs": [],
   "source": [
    "local_cluster.close() #close the Dask parallelization cluster/client\n",
    "custom_client_coexp.close()"
   ]
  },
  {
   "cell_type": "code",
   "execution_count": null,
   "metadata": {},
   "outputs": [],
   "source": [
    "####\n",
    "#IT IS BEST TO COMPLETELY RESTART THE KERNEL AT THIS POINT TO FREE UP MEMORY AND CLEAR THE MEMORY\n",
    "#ALL PREVIOUS IMPORTS MUST BE REDONE, just skip the adjacency calculation steps and jump directly back to here and start from the module files saved to disk previously\n",
    "###"
   ]
  },
  {
   "cell_type": "code",
   "execution_count": 10,
   "metadata": {},
   "outputs": [
    {
     "data": {
      "text/plain": [
       "'/home/bob/Dropbox (VU Basic Sciences)/Collaboration/PCA/Cumulative_SCENIC/Cumulative_SCENIC_out_ent_lin/7_10_species_modules.p'"
      ]
     },
     "execution_count": 10,
     "metadata": {},
     "output_type": "execute_result"
    }
   ],
   "source": [
    "MODULES_FNAME #check save location again"
   ]
  },
  {
   "cell_type": "code",
   "execution_count": 8,
   "metadata": {},
   "outputs": [],
   "source": [
    "with open(MODULES_FNAME, 'rb') as f: #load 'pickle' file\n",
    "    modules = pickle.load(f)"
   ]
  },
  {
   "cell_type": "code",
   "execution_count": 9,
   "metadata": {},
   "outputs": [
    {
     "data": {
      "text/plain": [
       "10512"
      ]
     },
     "execution_count": 9,
     "metadata": {},
     "output_type": "execute_result"
    }
   ],
   "source": [
    "len(modules) #ensure it's the same length as expected"
   ]
  },
  {
   "cell_type": "code",
   "execution_count": null,
   "metadata": {},
   "outputs": [],
   "source": [
    "#fire up another dask clusters, n workers * threads_per_worker must equal 12 im guessing for your mac mini. \n",
    "#This part is very memory hungry and will either freeze or time out if not enough is set per n_worker\n",
    "#to be on the safe side maybe stick to 4 workers or less with 2 threads each, with 16gb memory per worker. if that doesnt work decrease to 2 workers and double the memory per worker."
   ]
  },
  {
   "cell_type": "code",
   "execution_count": 11,
   "metadata": {},
   "outputs": [],
   "source": [
    "local_cluster = LocalCluster(n_workers=12,threads_per_worker=2,dashboard_address=':2345',memory_limit='10000MB')#lots of sleeping processes\n",
    "custom_client_coexp = Client(local_cluster)"
   ]
  },
  {
   "cell_type": "code",
   "execution_count": 12,
   "metadata": {},
   "outputs": [],
   "source": [
    "#gets messed up/slow if running without closing previous dask client."
   ]
  },
  {
   "cell_type": "code",
   "execution_count": null,
   "metadata": {
    "scrolled": true
   },
   "outputs": [
    {
     "name": "stderr",
     "output_type": "stream",
     "text": [
      "/home/bob/anaconda3/envs/scenic/lib/python3.8/site-packages/distributed/worker.py:3092: UserWarning: Large object of size 3.71 MB detected in task graph: \n",
      "  ([\"('from-delayed-a1e8ebdea217195b4d3c82e66399f1e4 ... e4', 63071)\"],)\n",
      "Consider scattering large objects ahead of time\n",
      "with client.scatter to reduce scheduler burden and \n",
      "keep data on workers\n",
      "\n",
      "    future = client.submit(func, big_data)    # bad\n",
      "\n",
      "    big_future = client.scatter(big_data)     # good\n",
      "    future = client.submit(func, big_future)  # good\n",
      "  warnings.warn(\n",
      "distributed.comm.tcp - WARNING - Closing dangling stream in <TCP  local=tcp://127.0.0.1:47482 remote=tcp://127.0.0.1:34537>\n",
      "distributed.comm.tcp - WARNING - Closing dangling stream in <TCP  local=tcp://127.0.0.1:47486 remote=tcp://127.0.0.1:34537>\n",
      "distributed.comm.tcp - WARNING - Closing dangling stream in <TCP  local=tcp://127.0.0.1:47488 remote=tcp://127.0.0.1:34537>\n",
      "distributed.comm.tcp - WARNING - Closing dangling stream in <TCP  local=tcp://127.0.0.1:47492 remote=tcp://127.0.0.1:34537>\n",
      "distributed.comm.tcp - WARNING - Closing dangling stream in <TCP  local=tcp://127.0.0.1:47494 remote=tcp://127.0.0.1:34537>\n",
      "distributed.comm.tcp - WARNING - Closing dangling stream in <TCP  local=tcp://127.0.0.1:47496 remote=tcp://127.0.0.1:34537>\n",
      "distributed.comm.tcp - WARNING - Closing dangling stream in <TCP  local=tcp://127.0.0.1:47498 remote=tcp://127.0.0.1:34537>\n",
      "distributed.comm.tcp - WARNING - Closing dangling stream in <TCP  local=tcp://127.0.0.1:47500 remote=tcp://127.0.0.1:34537>\n",
      "distributed.comm.tcp - WARNING - Closing dangling stream in <TCP  local=tcp://127.0.0.1:47504 remote=tcp://127.0.0.1:34537>\n",
      "distributed.comm.tcp - WARNING - Closing dangling stream in <TCP  local=tcp://127.0.0.1:47506 remote=tcp://127.0.0.1:34537>\n"
     ]
    }
   ],
   "source": [
    "df = prune2df(dbs, modules, MOTIF_ANNOTATIONS_FNAME,client_or_address=custom_client_coexp)  #stick to default settings"
   ]
  },
  {
   "cell_type": "code",
   "execution_count": null,
   "metadata": {},
   "outputs": [],
   "source": [
    "# Save the enriched motifs and the discovered regulons to disk.\n",
    "df.to_csv(MOTIFS_FNAME)"
   ]
  },
  {
   "cell_type": "code",
   "execution_count": null,
   "metadata": {},
   "outputs": [],
   "source": [
    "#######"
   ]
  },
  {
   "cell_type": "code",
   "execution_count": null,
   "metadata": {},
   "outputs": [],
   "source": [
    "#convert motifs to regulons"
   ]
  },
  {
   "cell_type": "code",
   "execution_count": null,
   "metadata": {},
   "outputs": [],
   "source": [
    "regulons = df2regulons(df)"
   ]
  },
  {
   "cell_type": "code",
   "execution_count": null,
   "metadata": {},
   "outputs": [],
   "source": [
    "#save regulons to disk\n",
    "with open(REGULONS_FNAME, \"wb\") as f:\n",
    "    pickle.dump(regulons, f)"
   ]
  },
  {
   "cell_type": "code",
   "execution_count": null,
   "metadata": {},
   "outputs": [],
   "source": [
    "#close parallelization cluster\n",
    "local_cluster.close()\n",
    "custom_client_coexp.close()"
   ]
  },
  {
   "cell_type": "code",
   "execution_count": null,
   "metadata": {},
   "outputs": [],
   "source": [
    "#"
   ]
  },
  {
   "cell_type": "markdown",
   "metadata": {},
   "source": [
    "Phase III: AUCell"
   ]
  },
  {
   "cell_type": "code",
   "execution_count": null,
   "metadata": {},
   "outputs": [],
   "source": [
    "#again, it is recommended to restart the kernel at this point like the previous step and re-import everything necessary"
   ]
  },
  {
   "cell_type": "code",
   "execution_count": 14,
   "metadata": {},
   "outputs": [],
   "source": [
    "with open(REGULONS_FNAME, 'rb') as f: #load regulon 'pickle' file\n",
    "    regulons = pickle.load(f)"
   ]
  },
  {
   "cell_type": "code",
   "execution_count": 15,
   "metadata": {},
   "outputs": [
    {
     "data": {
      "text/html": [
       "<div>\n",
       "<style scoped>\n",
       "    .dataframe tbody tr th:only-of-type {\n",
       "        vertical-align: middle;\n",
       "    }\n",
       "\n",
       "    .dataframe tbody tr th {\n",
       "        vertical-align: top;\n",
       "    }\n",
       "\n",
       "    .dataframe thead th {\n",
       "        text-align: right;\n",
       "    }\n",
       "</style>\n",
       "<table border=\"1\" class=\"dataframe\">\n",
       "  <thead>\n",
       "    <tr style=\"text-align: right;\">\n",
       "      <th></th>\n",
       "      <th>MT-ND3</th>\n",
       "      <th>AC004076.9</th>\n",
       "      <th>PHC3</th>\n",
       "      <th>GNG7</th>\n",
       "      <th>RP11-1348G14.5</th>\n",
       "      <th>TUBD1</th>\n",
       "      <th>EFTUD2</th>\n",
       "      <th>PFN1</th>\n",
       "      <th>ANKRD11</th>\n",
       "      <th>P2RY8</th>\n",
       "      <th>...</th>\n",
       "      <th>RP11-5K23.5</th>\n",
       "      <th>RP11-327J17.9</th>\n",
       "      <th>AC092669.6</th>\n",
       "      <th>SNORA59A</th>\n",
       "      <th>OR4F6</th>\n",
       "      <th>RNA5-8SP7</th>\n",
       "      <th>RP11-1023P17.2</th>\n",
       "      <th>RP11-552O4.1</th>\n",
       "      <th>EGFLAM-AS3</th>\n",
       "      <th>RP11-373J21.1</th>\n",
       "    </tr>\n",
       "  </thead>\n",
       "  <tbody>\n",
       "    <tr>\n",
       "      <th>GACGATTGATTAGTGGAC-mpp_03a-First</th>\n",
       "      <td>1339</td>\n",
       "      <td>0</td>\n",
       "      <td>2</td>\n",
       "      <td>0</td>\n",
       "      <td>0</td>\n",
       "      <td>0</td>\n",
       "      <td>0</td>\n",
       "      <td>32</td>\n",
       "      <td>4</td>\n",
       "      <td>0</td>\n",
       "      <td>...</td>\n",
       "      <td>0</td>\n",
       "      <td>0</td>\n",
       "      <td>0</td>\n",
       "      <td>0</td>\n",
       "      <td>0</td>\n",
       "      <td>0</td>\n",
       "      <td>0</td>\n",
       "      <td>0</td>\n",
       "      <td>0</td>\n",
       "      <td>0</td>\n",
       "    </tr>\n",
       "    <tr>\n",
       "      <th>TGAGGTTTCTCCACAGTTT-mpp_03a-First</th>\n",
       "      <td>1353</td>\n",
       "      <td>1</td>\n",
       "      <td>2</td>\n",
       "      <td>0</td>\n",
       "      <td>0</td>\n",
       "      <td>3</td>\n",
       "      <td>5</td>\n",
       "      <td>24</td>\n",
       "      <td>6</td>\n",
       "      <td>0</td>\n",
       "      <td>...</td>\n",
       "      <td>0</td>\n",
       "      <td>0</td>\n",
       "      <td>0</td>\n",
       "      <td>0</td>\n",
       "      <td>0</td>\n",
       "      <td>0</td>\n",
       "      <td>0</td>\n",
       "      <td>0</td>\n",
       "      <td>0</td>\n",
       "      <td>0</td>\n",
       "    </tr>\n",
       "    <tr>\n",
       "      <th>TAAATAGGCCAACCGT-mpp_03a-First</th>\n",
       "      <td>983</td>\n",
       "      <td>0</td>\n",
       "      <td>0</td>\n",
       "      <td>0</td>\n",
       "      <td>0</td>\n",
       "      <td>1</td>\n",
       "      <td>4</td>\n",
       "      <td>29</td>\n",
       "      <td>3</td>\n",
       "      <td>0</td>\n",
       "      <td>...</td>\n",
       "      <td>0</td>\n",
       "      <td>0</td>\n",
       "      <td>0</td>\n",
       "      <td>0</td>\n",
       "      <td>0</td>\n",
       "      <td>0</td>\n",
       "      <td>0</td>\n",
       "      <td>0</td>\n",
       "      <td>0</td>\n",
       "      <td>0</td>\n",
       "    </tr>\n",
       "    <tr>\n",
       "      <th>AGGCAACGGCCTCTTT-mpp_03a-First</th>\n",
       "      <td>973</td>\n",
       "      <td>0</td>\n",
       "      <td>3</td>\n",
       "      <td>0</td>\n",
       "      <td>0</td>\n",
       "      <td>3</td>\n",
       "      <td>0</td>\n",
       "      <td>40</td>\n",
       "      <td>4</td>\n",
       "      <td>0</td>\n",
       "      <td>...</td>\n",
       "      <td>0</td>\n",
       "      <td>0</td>\n",
       "      <td>0</td>\n",
       "      <td>0</td>\n",
       "      <td>0</td>\n",
       "      <td>0</td>\n",
       "      <td>0</td>\n",
       "      <td>0</td>\n",
       "      <td>0</td>\n",
       "      <td>0</td>\n",
       "    </tr>\n",
       "    <tr>\n",
       "      <th>GAGAATTCGTAGCGCCTT-mpp_03a-First</th>\n",
       "      <td>1614</td>\n",
       "      <td>0</td>\n",
       "      <td>1</td>\n",
       "      <td>1</td>\n",
       "      <td>0</td>\n",
       "      <td>2</td>\n",
       "      <td>0</td>\n",
       "      <td>9</td>\n",
       "      <td>2</td>\n",
       "      <td>0</td>\n",
       "      <td>...</td>\n",
       "      <td>0</td>\n",
       "      <td>0</td>\n",
       "      <td>0</td>\n",
       "      <td>0</td>\n",
       "      <td>0</td>\n",
       "      <td>0</td>\n",
       "      <td>0</td>\n",
       "      <td>0</td>\n",
       "      <td>0</td>\n",
       "      <td>0</td>\n",
       "    </tr>\n",
       "    <tr>\n",
       "      <th>...</th>\n",
       "      <td>...</td>\n",
       "      <td>...</td>\n",
       "      <td>...</td>\n",
       "      <td>...</td>\n",
       "      <td>...</td>\n",
       "      <td>...</td>\n",
       "      <td>...</td>\n",
       "      <td>...</td>\n",
       "      <td>...</td>\n",
       "      <td>...</td>\n",
       "      <td>...</td>\n",
       "      <td>...</td>\n",
       "      <td>...</td>\n",
       "      <td>...</td>\n",
       "      <td>...</td>\n",
       "      <td>...</td>\n",
       "      <td>...</td>\n",
       "      <td>...</td>\n",
       "      <td>...</td>\n",
       "      <td>...</td>\n",
       "      <td>...</td>\n",
       "    </tr>\n",
       "    <tr>\n",
       "      <th>GTTGCACGGCCACATC-MPP121A1-Second</th>\n",
       "      <td>15</td>\n",
       "      <td>0</td>\n",
       "      <td>0</td>\n",
       "      <td>0</td>\n",
       "      <td>0</td>\n",
       "      <td>0</td>\n",
       "      <td>1</td>\n",
       "      <td>3</td>\n",
       "      <td>0</td>\n",
       "      <td>0</td>\n",
       "      <td>...</td>\n",
       "      <td>0</td>\n",
       "      <td>0</td>\n",
       "      <td>0</td>\n",
       "      <td>0</td>\n",
       "      <td>0</td>\n",
       "      <td>0</td>\n",
       "      <td>0</td>\n",
       "      <td>0</td>\n",
       "      <td>0</td>\n",
       "      <td>0</td>\n",
       "    </tr>\n",
       "    <tr>\n",
       "      <th>AAAACTCGAGGGAACGA-MPP121A1-Second</th>\n",
       "      <td>19</td>\n",
       "      <td>0</td>\n",
       "      <td>0</td>\n",
       "      <td>0</td>\n",
       "      <td>0</td>\n",
       "      <td>0</td>\n",
       "      <td>0</td>\n",
       "      <td>1</td>\n",
       "      <td>0</td>\n",
       "      <td>0</td>\n",
       "      <td>...</td>\n",
       "      <td>0</td>\n",
       "      <td>0</td>\n",
       "      <td>0</td>\n",
       "      <td>0</td>\n",
       "      <td>0</td>\n",
       "      <td>0</td>\n",
       "      <td>0</td>\n",
       "      <td>0</td>\n",
       "      <td>0</td>\n",
       "      <td>0</td>\n",
       "    </tr>\n",
       "    <tr>\n",
       "      <th>GAACTAGGATACGAAACG-MPP121A1-Second</th>\n",
       "      <td>11</td>\n",
       "      <td>0</td>\n",
       "      <td>0</td>\n",
       "      <td>0</td>\n",
       "      <td>0</td>\n",
       "      <td>0</td>\n",
       "      <td>0</td>\n",
       "      <td>4</td>\n",
       "      <td>0</td>\n",
       "      <td>0</td>\n",
       "      <td>...</td>\n",
       "      <td>0</td>\n",
       "      <td>0</td>\n",
       "      <td>0</td>\n",
       "      <td>0</td>\n",
       "      <td>0</td>\n",
       "      <td>0</td>\n",
       "      <td>0</td>\n",
       "      <td>0</td>\n",
       "      <td>0</td>\n",
       "      <td>0</td>\n",
       "    </tr>\n",
       "    <tr>\n",
       "      <th>TGAACTAGCCACACAAGGC-MPP121A1-Second</th>\n",
       "      <td>14</td>\n",
       "      <td>0</td>\n",
       "      <td>0</td>\n",
       "      <td>0</td>\n",
       "      <td>0</td>\n",
       "      <td>0</td>\n",
       "      <td>0</td>\n",
       "      <td>0</td>\n",
       "      <td>0</td>\n",
       "      <td>0</td>\n",
       "      <td>...</td>\n",
       "      <td>0</td>\n",
       "      <td>0</td>\n",
       "      <td>0</td>\n",
       "      <td>0</td>\n",
       "      <td>0</td>\n",
       "      <td>0</td>\n",
       "      <td>0</td>\n",
       "      <td>0</td>\n",
       "      <td>0</td>\n",
       "      <td>0</td>\n",
       "    </tr>\n",
       "    <tr>\n",
       "      <th>TGACCAGCAGTGCGCATTC-MPP121A1-Second</th>\n",
       "      <td>13</td>\n",
       "      <td>0</td>\n",
       "      <td>1</td>\n",
       "      <td>0</td>\n",
       "      <td>0</td>\n",
       "      <td>0</td>\n",
       "      <td>0</td>\n",
       "      <td>0</td>\n",
       "      <td>0</td>\n",
       "      <td>0</td>\n",
       "      <td>...</td>\n",
       "      <td>0</td>\n",
       "      <td>0</td>\n",
       "      <td>0</td>\n",
       "      <td>0</td>\n",
       "      <td>0</td>\n",
       "      <td>0</td>\n",
       "      <td>0</td>\n",
       "      <td>0</td>\n",
       "      <td>0</td>\n",
       "      <td>0</td>\n",
       "    </tr>\n",
       "  </tbody>\n",
       "</table>\n",
       "<p>35589 rows × 35966 columns</p>\n",
       "</div>"
      ],
      "text/plain": [
       "                                     MT-ND3  AC004076.9  PHC3  GNG7  \\\n",
       "GACGATTGATTAGTGGAC-mpp_03a-First       1339           0     2     0   \n",
       "TGAGGTTTCTCCACAGTTT-mpp_03a-First      1353           1     2     0   \n",
       "TAAATAGGCCAACCGT-mpp_03a-First          983           0     0     0   \n",
       "AGGCAACGGCCTCTTT-mpp_03a-First          973           0     3     0   \n",
       "GAGAATTCGTAGCGCCTT-mpp_03a-First       1614           0     1     1   \n",
       "...                                     ...         ...   ...   ...   \n",
       "GTTGCACGGCCACATC-MPP121A1-Second         15           0     0     0   \n",
       "AAAACTCGAGGGAACGA-MPP121A1-Second        19           0     0     0   \n",
       "GAACTAGGATACGAAACG-MPP121A1-Second       11           0     0     0   \n",
       "TGAACTAGCCACACAAGGC-MPP121A1-Second      14           0     0     0   \n",
       "TGACCAGCAGTGCGCATTC-MPP121A1-Second      13           0     1     0   \n",
       "\n",
       "                                     RP11-1348G14.5  TUBD1  EFTUD2  PFN1  \\\n",
       "GACGATTGATTAGTGGAC-mpp_03a-First                  0      0       0    32   \n",
       "TGAGGTTTCTCCACAGTTT-mpp_03a-First                 0      3       5    24   \n",
       "TAAATAGGCCAACCGT-mpp_03a-First                    0      1       4    29   \n",
       "AGGCAACGGCCTCTTT-mpp_03a-First                    0      3       0    40   \n",
       "GAGAATTCGTAGCGCCTT-mpp_03a-First                  0      2       0     9   \n",
       "...                                             ...    ...     ...   ...   \n",
       "GTTGCACGGCCACATC-MPP121A1-Second                  0      0       1     3   \n",
       "AAAACTCGAGGGAACGA-MPP121A1-Second                 0      0       0     1   \n",
       "GAACTAGGATACGAAACG-MPP121A1-Second                0      0       0     4   \n",
       "TGAACTAGCCACACAAGGC-MPP121A1-Second               0      0       0     0   \n",
       "TGACCAGCAGTGCGCATTC-MPP121A1-Second               0      0       0     0   \n",
       "\n",
       "                                     ANKRD11  P2RY8  ...  RP11-5K23.5  \\\n",
       "GACGATTGATTAGTGGAC-mpp_03a-First           4      0  ...            0   \n",
       "TGAGGTTTCTCCACAGTTT-mpp_03a-First          6      0  ...            0   \n",
       "TAAATAGGCCAACCGT-mpp_03a-First             3      0  ...            0   \n",
       "AGGCAACGGCCTCTTT-mpp_03a-First             4      0  ...            0   \n",
       "GAGAATTCGTAGCGCCTT-mpp_03a-First           2      0  ...            0   \n",
       "...                                      ...    ...  ...          ...   \n",
       "GTTGCACGGCCACATC-MPP121A1-Second           0      0  ...            0   \n",
       "AAAACTCGAGGGAACGA-MPP121A1-Second          0      0  ...            0   \n",
       "GAACTAGGATACGAAACG-MPP121A1-Second         0      0  ...            0   \n",
       "TGAACTAGCCACACAAGGC-MPP121A1-Second        0      0  ...            0   \n",
       "TGACCAGCAGTGCGCATTC-MPP121A1-Second        0      0  ...            0   \n",
       "\n",
       "                                     RP11-327J17.9  AC092669.6  SNORA59A  \\\n",
       "GACGATTGATTAGTGGAC-mpp_03a-First                 0           0         0   \n",
       "TGAGGTTTCTCCACAGTTT-mpp_03a-First                0           0         0   \n",
       "TAAATAGGCCAACCGT-mpp_03a-First                   0           0         0   \n",
       "AGGCAACGGCCTCTTT-mpp_03a-First                   0           0         0   \n",
       "GAGAATTCGTAGCGCCTT-mpp_03a-First                 0           0         0   \n",
       "...                                            ...         ...       ...   \n",
       "GTTGCACGGCCACATC-MPP121A1-Second                 0           0         0   \n",
       "AAAACTCGAGGGAACGA-MPP121A1-Second                0           0         0   \n",
       "GAACTAGGATACGAAACG-MPP121A1-Second               0           0         0   \n",
       "TGAACTAGCCACACAAGGC-MPP121A1-Second              0           0         0   \n",
       "TGACCAGCAGTGCGCATTC-MPP121A1-Second              0           0         0   \n",
       "\n",
       "                                     OR4F6  RNA5-8SP7  RP11-1023P17.2  \\\n",
       "GACGATTGATTAGTGGAC-mpp_03a-First         0          0               0   \n",
       "TGAGGTTTCTCCACAGTTT-mpp_03a-First        0          0               0   \n",
       "TAAATAGGCCAACCGT-mpp_03a-First           0          0               0   \n",
       "AGGCAACGGCCTCTTT-mpp_03a-First           0          0               0   \n",
       "GAGAATTCGTAGCGCCTT-mpp_03a-First         0          0               0   \n",
       "...                                    ...        ...             ...   \n",
       "GTTGCACGGCCACATC-MPP121A1-Second         0          0               0   \n",
       "AAAACTCGAGGGAACGA-MPP121A1-Second        0          0               0   \n",
       "GAACTAGGATACGAAACG-MPP121A1-Second       0          0               0   \n",
       "TGAACTAGCCACACAAGGC-MPP121A1-Second      0          0               0   \n",
       "TGACCAGCAGTGCGCATTC-MPP121A1-Second      0          0               0   \n",
       "\n",
       "                                     RP11-552O4.1  EGFLAM-AS3  RP11-373J21.1  \n",
       "GACGATTGATTAGTGGAC-mpp_03a-First                0           0              0  \n",
       "TGAGGTTTCTCCACAGTTT-mpp_03a-First               0           0              0  \n",
       "TAAATAGGCCAACCGT-mpp_03a-First                  0           0              0  \n",
       "AGGCAACGGCCTCTTT-mpp_03a-First                  0           0              0  \n",
       "GAGAATTCGTAGCGCCTT-mpp_03a-First                0           0              0  \n",
       "...                                           ...         ...            ...  \n",
       "GTTGCACGGCCACATC-MPP121A1-Second                0           0              0  \n",
       "AAAACTCGAGGGAACGA-MPP121A1-Second               0           0              0  \n",
       "GAACTAGGATACGAAACG-MPP121A1-Second              0           0              0  \n",
       "TGAACTAGCCACACAAGGC-MPP121A1-Second             0           0              0  \n",
       "TGACCAGCAGTGCGCATTC-MPP121A1-Second             0           0              0  \n",
       "\n",
       "[35589 rows x 35966 columns]"
      ]
     },
     "execution_count": 15,
     "metadata": {},
     "output_type": "execute_result"
    }
   ],
   "source": [
    "data_in #check original count matrix"
   ]
  },
  {
   "cell_type": "code",
   "execution_count": 16,
   "metadata": {},
   "outputs": [],
   "source": [
    "auc_mtx = aucell(data_in, regulons, num_workers=16) #this should be very fast with minimal ram constraints, this is the final enrichment matrix after running this step "
   ]
  },
  {
   "cell_type": "code",
   "execution_count": 17,
   "metadata": {},
   "outputs": [
    {
     "data": {
      "text/html": [
       "<div>\n",
       "<style scoped>\n",
       "    .dataframe tbody tr th:only-of-type {\n",
       "        vertical-align: middle;\n",
       "    }\n",
       "\n",
       "    .dataframe tbody tr th {\n",
       "        vertical-align: top;\n",
       "    }\n",
       "\n",
       "    .dataframe thead th {\n",
       "        text-align: right;\n",
       "    }\n",
       "</style>\n",
       "<table border=\"1\" class=\"dataframe\">\n",
       "  <thead>\n",
       "    <tr style=\"text-align: right;\">\n",
       "      <th>Regulon</th>\n",
       "      <th>ARNTL(+)</th>\n",
       "      <th>ASCL2(+)</th>\n",
       "      <th>ATF3(+)</th>\n",
       "      <th>ATF4(+)</th>\n",
       "      <th>BCL3(+)</th>\n",
       "      <th>BCLAF1(+)</th>\n",
       "      <th>BHLHE40(+)</th>\n",
       "      <th>BRCA1(+)</th>\n",
       "      <th>CBX7(+)</th>\n",
       "      <th>CDX2(+)</th>\n",
       "      <th>...</th>\n",
       "      <th>XBP1(+)</th>\n",
       "      <th>YBX1(+)</th>\n",
       "      <th>YY1(+)</th>\n",
       "      <th>ZBTB17(+)</th>\n",
       "      <th>ZBTB7A(+)</th>\n",
       "      <th>ZBTB7B(+)</th>\n",
       "      <th>ZMIZ1(+)</th>\n",
       "      <th>ZNF76(+)</th>\n",
       "      <th>ZNF831(+)</th>\n",
       "      <th>ZNF878(+)</th>\n",
       "    </tr>\n",
       "    <tr>\n",
       "      <th>Cell</th>\n",
       "      <th></th>\n",
       "      <th></th>\n",
       "      <th></th>\n",
       "      <th></th>\n",
       "      <th></th>\n",
       "      <th></th>\n",
       "      <th></th>\n",
       "      <th></th>\n",
       "      <th></th>\n",
       "      <th></th>\n",
       "      <th></th>\n",
       "      <th></th>\n",
       "      <th></th>\n",
       "      <th></th>\n",
       "      <th></th>\n",
       "      <th></th>\n",
       "      <th></th>\n",
       "      <th></th>\n",
       "      <th></th>\n",
       "      <th></th>\n",
       "      <th></th>\n",
       "    </tr>\n",
       "  </thead>\n",
       "  <tbody>\n",
       "    <tr>\n",
       "      <th>GACGATTGATTAGTGGAC-mpp_03a-First</th>\n",
       "      <td>0.099676</td>\n",
       "      <td>0.059380</td>\n",
       "      <td>0.094300</td>\n",
       "      <td>0.105433</td>\n",
       "      <td>0.151058</td>\n",
       "      <td>0.061749</td>\n",
       "      <td>0.048363</td>\n",
       "      <td>0.029279</td>\n",
       "      <td>0.000000</td>\n",
       "      <td>0.726394</td>\n",
       "      <td>...</td>\n",
       "      <td>0.089586</td>\n",
       "      <td>0.762002</td>\n",
       "      <td>0.054935</td>\n",
       "      <td>0.060131</td>\n",
       "      <td>0.183721</td>\n",
       "      <td>0.186385</td>\n",
       "      <td>0.183734</td>\n",
       "      <td>0.0</td>\n",
       "      <td>0.0</td>\n",
       "      <td>0.011836</td>\n",
       "    </tr>\n",
       "    <tr>\n",
       "      <th>TGAGGTTTCTCCACAGTTT-mpp_03a-First</th>\n",
       "      <td>0.068311</td>\n",
       "      <td>0.127467</td>\n",
       "      <td>0.061857</td>\n",
       "      <td>0.115404</td>\n",
       "      <td>0.110959</td>\n",
       "      <td>0.067394</td>\n",
       "      <td>0.093110</td>\n",
       "      <td>0.046894</td>\n",
       "      <td>0.000000</td>\n",
       "      <td>0.697419</td>\n",
       "      <td>...</td>\n",
       "      <td>0.098821</td>\n",
       "      <td>0.791405</td>\n",
       "      <td>0.068927</td>\n",
       "      <td>0.047526</td>\n",
       "      <td>0.147425</td>\n",
       "      <td>0.138264</td>\n",
       "      <td>0.137220</td>\n",
       "      <td>0.0</td>\n",
       "      <td>0.0</td>\n",
       "      <td>0.000000</td>\n",
       "    </tr>\n",
       "    <tr>\n",
       "      <th>TAAATAGGCCAACCGT-mpp_03a-First</th>\n",
       "      <td>0.059505</td>\n",
       "      <td>0.106743</td>\n",
       "      <td>0.042071</td>\n",
       "      <td>0.113876</td>\n",
       "      <td>0.066240</td>\n",
       "      <td>0.074140</td>\n",
       "      <td>0.049361</td>\n",
       "      <td>0.104166</td>\n",
       "      <td>0.114002</td>\n",
       "      <td>0.687322</td>\n",
       "      <td>...</td>\n",
       "      <td>0.130027</td>\n",
       "      <td>0.924853</td>\n",
       "      <td>0.089731</td>\n",
       "      <td>0.018241</td>\n",
       "      <td>0.111302</td>\n",
       "      <td>0.078256</td>\n",
       "      <td>0.087889</td>\n",
       "      <td>0.0</td>\n",
       "      <td>0.0</td>\n",
       "      <td>0.000000</td>\n",
       "    </tr>\n",
       "    <tr>\n",
       "      <th>AGGCAACGGCCTCTTT-mpp_03a-First</th>\n",
       "      <td>0.101625</td>\n",
       "      <td>0.075405</td>\n",
       "      <td>0.120555</td>\n",
       "      <td>0.105697</td>\n",
       "      <td>0.171882</td>\n",
       "      <td>0.056137</td>\n",
       "      <td>0.094188</td>\n",
       "      <td>0.038830</td>\n",
       "      <td>0.071765</td>\n",
       "      <td>0.680486</td>\n",
       "      <td>...</td>\n",
       "      <td>0.088209</td>\n",
       "      <td>0.722617</td>\n",
       "      <td>0.061750</td>\n",
       "      <td>0.049959</td>\n",
       "      <td>0.179117</td>\n",
       "      <td>0.164715</td>\n",
       "      <td>0.215308</td>\n",
       "      <td>0.0</td>\n",
       "      <td>0.0</td>\n",
       "      <td>0.000000</td>\n",
       "    </tr>\n",
       "    <tr>\n",
       "      <th>GAGAATTCGTAGCGCCTT-mpp_03a-First</th>\n",
       "      <td>0.082671</td>\n",
       "      <td>0.036068</td>\n",
       "      <td>0.083264</td>\n",
       "      <td>0.103427</td>\n",
       "      <td>0.145354</td>\n",
       "      <td>0.053247</td>\n",
       "      <td>0.065623</td>\n",
       "      <td>0.023728</td>\n",
       "      <td>0.032077</td>\n",
       "      <td>0.730583</td>\n",
       "      <td>...</td>\n",
       "      <td>0.073473</td>\n",
       "      <td>0.809067</td>\n",
       "      <td>0.052858</td>\n",
       "      <td>0.047457</td>\n",
       "      <td>0.210144</td>\n",
       "      <td>0.229295</td>\n",
       "      <td>0.250382</td>\n",
       "      <td>0.0</td>\n",
       "      <td>0.0</td>\n",
       "      <td>0.000000</td>\n",
       "    </tr>\n",
       "  </tbody>\n",
       "</table>\n",
       "<p>5 rows × 173 columns</p>\n",
       "</div>"
      ],
      "text/plain": [
       "Regulon                            ARNTL(+)  ASCL2(+)   ATF3(+)   ATF4(+)  \\\n",
       "Cell                                                                        \n",
       "GACGATTGATTAGTGGAC-mpp_03a-First   0.099676  0.059380  0.094300  0.105433   \n",
       "TGAGGTTTCTCCACAGTTT-mpp_03a-First  0.068311  0.127467  0.061857  0.115404   \n",
       "TAAATAGGCCAACCGT-mpp_03a-First     0.059505  0.106743  0.042071  0.113876   \n",
       "AGGCAACGGCCTCTTT-mpp_03a-First     0.101625  0.075405  0.120555  0.105697   \n",
       "GAGAATTCGTAGCGCCTT-mpp_03a-First   0.082671  0.036068  0.083264  0.103427   \n",
       "\n",
       "Regulon                             BCL3(+)  BCLAF1(+)  BHLHE40(+)  BRCA1(+)  \\\n",
       "Cell                                                                           \n",
       "GACGATTGATTAGTGGAC-mpp_03a-First   0.151058   0.061749    0.048363  0.029279   \n",
       "TGAGGTTTCTCCACAGTTT-mpp_03a-First  0.110959   0.067394    0.093110  0.046894   \n",
       "TAAATAGGCCAACCGT-mpp_03a-First     0.066240   0.074140    0.049361  0.104166   \n",
       "AGGCAACGGCCTCTTT-mpp_03a-First     0.171882   0.056137    0.094188  0.038830   \n",
       "GAGAATTCGTAGCGCCTT-mpp_03a-First   0.145354   0.053247    0.065623  0.023728   \n",
       "\n",
       "Regulon                             CBX7(+)   CDX2(+)  ...   XBP1(+)  \\\n",
       "Cell                                                   ...             \n",
       "GACGATTGATTAGTGGAC-mpp_03a-First   0.000000  0.726394  ...  0.089586   \n",
       "TGAGGTTTCTCCACAGTTT-mpp_03a-First  0.000000  0.697419  ...  0.098821   \n",
       "TAAATAGGCCAACCGT-mpp_03a-First     0.114002  0.687322  ...  0.130027   \n",
       "AGGCAACGGCCTCTTT-mpp_03a-First     0.071765  0.680486  ...  0.088209   \n",
       "GAGAATTCGTAGCGCCTT-mpp_03a-First   0.032077  0.730583  ...  0.073473   \n",
       "\n",
       "Regulon                             YBX1(+)    YY1(+)  ZBTB17(+)  ZBTB7A(+)  \\\n",
       "Cell                                                                          \n",
       "GACGATTGATTAGTGGAC-mpp_03a-First   0.762002  0.054935   0.060131   0.183721   \n",
       "TGAGGTTTCTCCACAGTTT-mpp_03a-First  0.791405  0.068927   0.047526   0.147425   \n",
       "TAAATAGGCCAACCGT-mpp_03a-First     0.924853  0.089731   0.018241   0.111302   \n",
       "AGGCAACGGCCTCTTT-mpp_03a-First     0.722617  0.061750   0.049959   0.179117   \n",
       "GAGAATTCGTAGCGCCTT-mpp_03a-First   0.809067  0.052858   0.047457   0.210144   \n",
       "\n",
       "Regulon                            ZBTB7B(+)  ZMIZ1(+)  ZNF76(+)  ZNF831(+)  \\\n",
       "Cell                                                                          \n",
       "GACGATTGATTAGTGGAC-mpp_03a-First    0.186385  0.183734       0.0        0.0   \n",
       "TGAGGTTTCTCCACAGTTT-mpp_03a-First   0.138264  0.137220       0.0        0.0   \n",
       "TAAATAGGCCAACCGT-mpp_03a-First      0.078256  0.087889       0.0        0.0   \n",
       "AGGCAACGGCCTCTTT-mpp_03a-First      0.164715  0.215308       0.0        0.0   \n",
       "GAGAATTCGTAGCGCCTT-mpp_03a-First    0.229295  0.250382       0.0        0.0   \n",
       "\n",
       "Regulon                            ZNF878(+)  \n",
       "Cell                                          \n",
       "GACGATTGATTAGTGGAC-mpp_03a-First    0.011836  \n",
       "TGAGGTTTCTCCACAGTTT-mpp_03a-First   0.000000  \n",
       "TAAATAGGCCAACCGT-mpp_03a-First      0.000000  \n",
       "AGGCAACGGCCTCTTT-mpp_03a-First      0.000000  \n",
       "GAGAATTCGTAGCGCCTT-mpp_03a-First    0.000000  \n",
       "\n",
       "[5 rows x 173 columns]"
      ]
     },
     "execution_count": 17,
     "metadata": {},
     "output_type": "execute_result"
    }
   ],
   "source": [
    "auc_mtx.head() #should be a cell x regulon matrix"
   ]
  },
  {
   "cell_type": "code",
   "execution_count": 18,
   "metadata": {},
   "outputs": [],
   "source": [
    "# Save the enriched motifs and the discovered regulons to disk.\n",
    "auc_mtx.to_csv(AUC_FNAME)"
   ]
  },
  {
   "cell_type": "code",
   "execution_count": null,
   "metadata": {},
   "outputs": [],
   "source": [
    "#finally close the cluster agin"
   ]
  },
  {
   "cell_type": "code",
   "execution_count": null,
   "metadata": {},
   "outputs": [],
   "source": [
    "local_cluster.close()\n",
    "custom_client_coexp.close()"
   ]
  },
  {
   "cell_type": "code",
   "execution_count": null,
   "metadata": {},
   "outputs": [],
   "source": []
  }
 ],
 "metadata": {
  "kernelspec": {
   "display_name": "Python 3",
   "language": "python",
   "name": "python3"
  },
  "language_info": {
   "codemirror_mode": {
    "name": "ipython",
    "version": 3
   },
   "file_extension": ".py",
   "mimetype": "text/x-python",
   "name": "python",
   "nbconvert_exporter": "python",
   "pygments_lexer": "ipython3",
   "version": "3.8.3"
  }
 },
 "nbformat": 4,
 "nbformat_minor": 4
}
